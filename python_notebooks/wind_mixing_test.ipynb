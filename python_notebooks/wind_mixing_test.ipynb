{
 "cells": [
  {
   "cell_type": "code",
   "execution_count": 1,
   "metadata": {},
   "outputs": [
    {
     "name": "stderr",
     "output_type": "stream",
     "text": [
      "┌ Info: CUDAdrv.jl failed to initialize, GPU functionality unavailable (set JULIA_CUDA_SILENT or JULIA_CUDA_VERBOSE to silence or expand this message)\n",
      "└ @ CUDAdrv /Users/kidsampson/.julia/packages/CUDAdrv/aBgcd/src/CUDAdrv.jl:69\n"
     ]
    }
   ],
   "source": [
    "using Random, Printf, Plots, Statistics\n",
    "using Oceananigans, Oceananigans.OutputWriters, Oceananigans.Diagnostics, Oceananigans.Utils\n",
    "using Oceananigans.Fields, Oceananigans.Operators"
   ]
  },
  {
   "cell_type": "markdown",
   "metadata": {},
   "source": [
    "## Model parameters\n",
    "\n",
    "Here we use an isotropic, cubic grid with `Nz` grid points and grid spacing\n",
    "`Δz = 1` meter. We specify fluxes of heat, momentum, and salinity via\n",
    "\n",
    "   1. A temperature flux `Qᵀ` at the top of the domain, which is related to heat flux\n",
    "       by `Qᵀ = Qʰ / (ρ₀ * cᴾ)`, where `Qʰ` is the heat flux, `ρ₀` is a reference density,\n",
    "       and `cᴾ` is the heat capacity of seawater. With a reference density\n",
    "       `ρ₀ = 1026 kg m⁻³`and heat capacity `cᴾ = 3991`, our chosen temperature flux of\n",
    "       `Qᵀ = 5 × 10⁻⁵ K m⁻¹ s⁻¹` corresponds to a heat flux of `Qʰ = 204.7 W m⁻²`, a\n",
    "       relatively powerful cooling rate.\n",
    "\n",
    "   2. A velocity flux `Qᵘ` at the top of the domain, which is related\n",
    "       to the `x` momentum flux `τˣ` via `τˣ = ρ₀ * Qᵘ`, where `ρ₀` is a reference density.\n",
    "       Our chosen value of `Qᵘ = -2 × 10⁻⁵ m² s⁻²` roughly corresponds to atmospheric winds\n",
    "       of `uᵃ = 2.9 m s⁻¹` in the positive `x`-direction, using the parameterization\n",
    "       `τ = 0.0025 * |uᵃ| * uᵃ`.\n",
    "\n",
    "   3. An evaporation rate `evaporation = 10⁻⁷ m s⁻¹`, or approximately 0.1 millimeter per\n",
    "       hour.\n",
    "\n",
    "Finally, we use an initial temperature gradient of `∂T/∂z = 0.005 K m⁻¹`,\n",
    "which implies an iniital buoyancy frequency `N² = α * g * ∂T/∂z = 9.8 × 10⁻⁶ s⁻²`\n",
    "with a thermal expansion coefficient `α = 2 × 10⁻⁴ K⁻¹` and gravitational acceleration\n",
    "`g = 9.81 s⁻²`. Note that, by default, the `SeawaterBuoyancy` model uses a gravitational\n",
    "acceleration `gᴱᵃʳᵗʰ = 9.80665 s⁻²`."
   ]
  },
  {
   "cell_type": "code",
   "execution_count": 2,
   "metadata": {},
   "outputs": [],
   "source": [
    "Nx, Ny, Nz = 16, 16, 16    # No. of grid points in x, y, and z, respectively.\n",
    "Lx, Ly, Lz = 40, 40, 16    # Length of the domain in x, y, and z, respectively (m).\n",
    "topology = (Periodic, Periodic, Bounded) # topology of the grid\n",
    "nothing # hide"
   ]
  },
  {
   "cell_type": "code",
   "execution_count": 3,
   "metadata": {},
   "outputs": [
    {
     "data": {
      "text/plain": [
       "RegularCartesianGrid{Float64, Periodic, Periodic, Bounded}\n",
       "domain: x ∈ [0.0, 40.0], y ∈ [0.0, 40.0], z ∈ [-16.0, 0.0]\n",
       "  resolution (Nx, Ny, Nz) = (16, 16, 16)\n",
       "   halo size (Hx, Hy, Hz) = (1, 1, 1)\n",
       "grid spacing (Δx, Δy, Δz) = (2.5, 2.5, 1.0)"
      ]
     },
     "execution_count": 3,
     "metadata": {},
     "output_type": "execute_result"
    }
   ],
   "source": [
    "grid = RegularCartesianGrid(topology=topology, size=(Nx, Ny, Nz), length=(Lx, Ly, Lz))"
   ]
  },
  {
   "cell_type": "code",
   "execution_count": 4,
   "metadata": {},
   "outputs": [],
   "source": [
    "const Ekman_deg = 17*pi/180\n",
    "const g  = 9.80665 # gravitation on earth\n",
    "const u★ = 0.008 # [m s⁻¹], friction velocity\n",
    "const f  = 1e-4     # Coriolis parameter\n",
    "const omega = -f/8\n",
    "nothing"
   ]
  },
  {
   "cell_type": "code",
   "execution_count": 5,
   "metadata": {},
   "outputs": [],
   "source": [
    "# fluxes *kinematic* because they are applied to the velocity field. \n",
    "x_momentum_flux(x, y, t) = u★^2 * cos(omega * t)\n",
    "y_momentum_flux(x, y, t) = u★^2 * sin(omega * t) \n",
    "\n",
    "τˣ = BoundaryFunction{:z, Face, Cell}(x_momentum_flux)\n",
    "τʸ = BoundaryFunction{:z, Cell, Face}(y_momentum_flux)\n",
    "\n",
    "u_bcs = UVelocityBoundaryConditions(grid,\n",
    "                                    top=BoundaryCondition(Flux, τˣ),\n",
    "                                 bottom=BoundaryCondition(Value, 0))\n",
    "v_bcs = VVelocityBoundaryConditions(grid,\n",
    "                                    top=BoundaryCondition(Flux, τʸ),\n",
    "                                 bottom=BoundaryCondition(Value, 0))\n",
    "nothing"
   ]
  },
  {
   "cell_type": "code",
   "execution_count": 6,
   "metadata": {},
   "outputs": [],
   "source": [
    "         Qᵀ = 0 #5e-5  # Temperature flux at surface\n",
    "         Qᵘ = 1e-5     # Velocity flux at surface\n",
    "       ∂T∂z = 1e0     # Initial vertical temperature gradient\n",
    "   ∂T∂z_bot = 1e-2  # initial temp gradient in the bottom layer\n",
    "evaporation = 0 # 1e-7     # Mass-specific evaporation rate [m s⁻¹]\n",
    "          α = 2e-4     # Thermal expansion coefficient\n",
    "          β = 8e-4     # Haline contraction coefficient\n",
    "nothing # hide"
   ]
  },
  {
   "cell_type": "markdown",
   "metadata": {},
   "source": [
    "## Boundary conditions\n",
    "\n",
    "Here we define `Flux` boundary conditions at the surface for `u`, `T`, and `S`,\n",
    "and a `Gradient` boundary condition on `T` that maintains a constant stratification\n",
    "at the bottom. Our flux boundary condition for salinity uses a function that calculates\n",
    "the salinity flux in terms of the evaporation rate."
   ]
  },
  {
   "cell_type": "code",
   "execution_count": 7,
   "metadata": {},
   "outputs": [],
   "source": [
    "bot_TL = 11\n",
    "top_TL = 7\n",
    "bot_temp = 20 + ∂T∂z * (top_TL-bot_TL) + ∂T∂z_bot * (bot_TL - Lz) + ∂T∂z_bot * ( 0.0 - top_TL)\n",
    "T_bcs = TracerBoundaryConditions(grid, top = BoundaryCondition(Flux, Qᵀ),\n",
    "                                    bottom = BoundaryCondition(Gradient, ∂T∂z_bot))\n",
    "nothing"
   ]
  },
  {
   "cell_type": "code",
   "execution_count": 8,
   "metadata": {},
   "outputs": [],
   "source": [
    "model = IncompressibleModel(\n",
    "         architecture = CPU(),\n",
    "                 grid = grid,\n",
    "             coriolis = FPlane(f=f),\n",
    "             buoyancy = SeawaterBuoyancy(equation_of_state=LinearEquationOfState(α=α, β=β)),\n",
    "              closure = AnisotropicMinimumDissipation(),\n",
    "  boundary_conditions = (u=u_bcs, v=v_bcs, T=T_bcs),\n",
    ")\n",
    "nothing # hide"
   ]
  },
  {
   "cell_type": "markdown",
   "metadata": {},
   "source": [
    "### Notes:\n",
    "\n",
    "* To use the Smagorinsky-Lilly turbulence closure (with a constant model coefficient) rather than\n",
    "  `AnisotropicMinimumDissipation`, use `closure = ConstantSmagorinsky()` in the model constructor.\n",
    "\n",
    "* To change the `architecture` to `GPU`, replace the `architecture` keyword argument with\n",
    "  `architecture = GPU()``\n",
    "\n",
    "## Initial conditions\n",
    "\n",
    "Our initial condition for temperature consists of a linear stratification superposed with\n",
    "random noise damped at the walls, while our initial condition for velocity consists\n",
    "only of random noise."
   ]
  },
  {
   "cell_type": "code",
   "execution_count": 9,
   "metadata": {},
   "outputs": [],
   "source": [
    "## Temperature initial condition 1: a stable density tradient with random noise superposed.\n",
    "T₀(x, y, z) = 20 + ∂T∂z * z \n",
    "\n",
    "## Temperature initial condition 2: OML -> pycnocline -> stably stratified bottom layer\n",
    "function tempset_fxn(x, y, z)\n",
    "    if abs(z) < top_TL\n",
    "        20  + ∂T∂z_bot * z\n",
    "    elseif abs(z) > bot_TL\n",
    "        20 + ∂T∂z_bot * top_TL + ∂T∂z * (top_TL-bot_TL) + ∂T∂z_bot * z\n",
    "    else \n",
    "        20 + ∂T∂z * (z+top_TL) \n",
    "    end\n",
    "end\n",
    "\n",
    "## Random noise damped at top and bottom\n",
    "Ξ(z) = randn() * z / model.grid.Lz * (1 + z / model.grid.Lz) # noise\n",
    "## Velocity initial condition: random noise scaled by the friction velocity.\n",
    "#u₀(x, y, z) = u★ * 1e-6 * Ξ(z)\n",
    "\n",
    "function horvel_set_fxn(x, y, z)\n",
    "    if abs(z) < top_TL\n",
    "        1e-6 * Ξ(z)\n",
    "    else \n",
    "        1e-10 * Ξ(z)\n",
    "    end\n",
    "end\n",
    "\n",
    "function w_set_fxn(x, y, z)\n",
    "    if abs(z) < top_TL\n",
    "        u★^2 * 1e-4 * Ξ(z)\n",
    "    else \n",
    "        0\n",
    "    end\n",
    "end\n",
    "nothing # hide"
   ]
  },
  {
   "cell_type": "code",
   "execution_count": 10,
   "metadata": {},
   "outputs": [],
   "source": [
    "set!(model, u=horvel_set_fxn, v=horvel_set_fxn, T=tempset_fxn, S=31.5)"
   ]
  },
  {
   "cell_type": "code",
   "execution_count": 11,
   "metadata": {},
   "outputs": [
    {
     "data": {
      "text/plain": [
       "diff3D (generic function with 1 method)"
      ]
     },
     "execution_count": 11,
     "metadata": {},
     "output_type": "execute_result"
    }
   ],
   "source": [
    "function diff3D(A::Array, dim::Integer)\n",
    "    if dim == 1\n",
    "        [A[i+1,j,k] - A[i,j,k] for i=1:size(A,1)-1, j=1:size(A,2), k=1:size(A,3)]\n",
    "    elseif dim == 2\n",
    "       [A[i,j+1,k] - A[i,j,k] for i=1:size(A,1), j=1:size(A,2)-1, k=1:size(A,3)]\n",
    "    elseif dim == 3\n",
    "       [A[i,j,k+1] - A[i,j,k] for i=1:size(A,1), j=1:size(A,2), k=1:size(A,3)-1]\n",
    "    else\n",
    "        throw(ArgumentError(\"dimension dim must be 1, 2, or 3 got $dim\"))\n",
    "    end\n",
    "end"
   ]
  },
  {
   "cell_type": "code",
   "execution_count": 12,
   "metadata": {},
   "outputs": [
    {
     "data": {
      "text/plain": [
       "hor_mean (generic function with 1 method)"
      ]
     },
     "execution_count": 12,
     "metadata": {},
     "output_type": "execute_result"
    }
   ],
   "source": [
    "function hor_mean(array, axis)\n",
    "    n = size(array)[axis]\n",
    "    k = zeros(n)\n",
    "    for i in 1:n\n",
    "        k[i]= mean(array[:,:,i])\n",
    "    end\n",
    "    return k\n",
    "end    "
   ]
  },
  {
   "cell_type": "code",
   "execution_count": 13,
   "metadata": {},
   "outputs": [
    {
     "data": {
      "image/svg+xml": [
       "<?xml version=\"1.0\" encoding=\"utf-8\"?>\n",
       "<svg xmlns=\"http://www.w3.org/2000/svg\" xmlns:xlink=\"http://www.w3.org/1999/xlink\" width=\"600\" height=\"400\" viewBox=\"0 0 2400 1600\">\n",
       "<defs>\n",
       "  <clipPath id=\"clip4800\">\n",
       "    <rect x=\"0\" y=\"0\" width=\"2400\" height=\"1600\"/>\n",
       "  </clipPath>\n",
       "</defs>\n",
       "<path clip-path=\"url(#clip4800)\" d=\"\n",
       "M0 1600 L2400 1600 L2400 0 L0 0  Z\n",
       "  \" fill=\"#ffffff\" fill-rule=\"evenodd\" fill-opacity=\"1\"/>\n",
       "<defs>\n",
       "  <clipPath id=\"clip4801\">\n",
       "    <rect x=\"480\" y=\"0\" width=\"1681\" height=\"1600\"/>\n",
       "  </clipPath>\n",
       "</defs>\n",
       "<path clip-path=\"url(#clip4800)\" d=\"\n",
       "M168.627 1487.47 L2352.76 1487.47 L2352.76 47.2441 L168.627 47.2441  Z\n",
       "  \" fill=\"#ffffff\" fill-rule=\"evenodd\" fill-opacity=\"1\"/>\n",
       "<defs>\n",
       "  <clipPath id=\"clip4802\">\n",
       "    <rect x=\"168\" y=\"47\" width=\"2185\" height=\"1441\"/>\n",
       "  </clipPath>\n",
       "</defs>\n",
       "<polyline clip-path=\"url(#clip4802)\" style=\"stroke:#000000; stroke-width:2; stroke-opacity:0.1; fill:none\" points=\"\n",
       "  273.369,1487.47 273.369,47.2441 \n",
       "  \"/>\n",
       "<polyline clip-path=\"url(#clip4802)\" style=\"stroke:#000000; stroke-width:2; stroke-opacity:0.1; fill:none\" points=\"\n",
       "  778.393,1487.47 778.393,47.2441 \n",
       "  \"/>\n",
       "<polyline clip-path=\"url(#clip4802)\" style=\"stroke:#000000; stroke-width:2; stroke-opacity:0.1; fill:none\" points=\"\n",
       "  1283.42,1487.47 1283.42,47.2441 \n",
       "  \"/>\n",
       "<polyline clip-path=\"url(#clip4802)\" style=\"stroke:#000000; stroke-width:2; stroke-opacity:0.1; fill:none\" points=\"\n",
       "  1788.44,1487.47 1788.44,47.2441 \n",
       "  \"/>\n",
       "<polyline clip-path=\"url(#clip4802)\" style=\"stroke:#000000; stroke-width:2; stroke-opacity:0.1; fill:none\" points=\"\n",
       "  2293.47,1487.47 2293.47,47.2441 \n",
       "  \"/>\n",
       "<polyline clip-path=\"url(#clip4802)\" style=\"stroke:#000000; stroke-width:2; stroke-opacity:0.1; fill:none\" points=\"\n",
       "  168.627,1310.84 2352.76,1310.84 \n",
       "  \"/>\n",
       "<polyline clip-path=\"url(#clip4802)\" style=\"stroke:#000000; stroke-width:2; stroke-opacity:0.1; fill:none\" points=\"\n",
       "  168.627,1129.68 2352.76,1129.68 \n",
       "  \"/>\n",
       "<polyline clip-path=\"url(#clip4802)\" style=\"stroke:#000000; stroke-width:2; stroke-opacity:0.1; fill:none\" points=\"\n",
       "  168.627,948.52 2352.76,948.52 \n",
       "  \"/>\n",
       "<polyline clip-path=\"url(#clip4802)\" style=\"stroke:#000000; stroke-width:2; stroke-opacity:0.1; fill:none\" points=\"\n",
       "  168.627,767.359 2352.76,767.359 \n",
       "  \"/>\n",
       "<polyline clip-path=\"url(#clip4802)\" style=\"stroke:#000000; stroke-width:2; stroke-opacity:0.1; fill:none\" points=\"\n",
       "  168.627,586.198 2352.76,586.198 \n",
       "  \"/>\n",
       "<polyline clip-path=\"url(#clip4802)\" style=\"stroke:#000000; stroke-width:2; stroke-opacity:0.1; fill:none\" points=\"\n",
       "  168.627,405.037 2352.76,405.037 \n",
       "  \"/>\n",
       "<polyline clip-path=\"url(#clip4802)\" style=\"stroke:#000000; stroke-width:2; stroke-opacity:0.1; fill:none\" points=\"\n",
       "  168.627,223.876 2352.76,223.876 \n",
       "  \"/>\n",
       "<polyline clip-path=\"url(#clip4800)\" style=\"stroke:#000000; stroke-width:4; stroke-opacity:1; fill:none\" points=\"\n",
       "  168.627,1487.47 2352.76,1487.47 \n",
       "  \"/>\n",
       "<polyline clip-path=\"url(#clip4800)\" style=\"stroke:#000000; stroke-width:4; stroke-opacity:1; fill:none\" points=\"\n",
       "  168.627,1487.47 168.627,47.2441 \n",
       "  \"/>\n",
       "<polyline clip-path=\"url(#clip4800)\" style=\"stroke:#000000; stroke-width:4; stroke-opacity:1; fill:none\" points=\"\n",
       "  273.369,1487.47 273.369,1470.19 \n",
       "  \"/>\n",
       "<polyline clip-path=\"url(#clip4800)\" style=\"stroke:#000000; stroke-width:4; stroke-opacity:1; fill:none\" points=\"\n",
       "  778.393,1487.47 778.393,1470.19 \n",
       "  \"/>\n",
       "<polyline clip-path=\"url(#clip4800)\" style=\"stroke:#000000; stroke-width:4; stroke-opacity:1; fill:none\" points=\"\n",
       "  1283.42,1487.47 1283.42,1470.19 \n",
       "  \"/>\n",
       "<polyline clip-path=\"url(#clip4800)\" style=\"stroke:#000000; stroke-width:4; stroke-opacity:1; fill:none\" points=\"\n",
       "  1788.44,1487.47 1788.44,1470.19 \n",
       "  \"/>\n",
       "<polyline clip-path=\"url(#clip4800)\" style=\"stroke:#000000; stroke-width:4; stroke-opacity:1; fill:none\" points=\"\n",
       "  2293.47,1487.47 2293.47,1470.19 \n",
       "  \"/>\n",
       "<polyline clip-path=\"url(#clip4800)\" style=\"stroke:#000000; stroke-width:4; stroke-opacity:1; fill:none\" points=\"\n",
       "  168.627,1310.84 194.836,1310.84 \n",
       "  \"/>\n",
       "<polyline clip-path=\"url(#clip4800)\" style=\"stroke:#000000; stroke-width:4; stroke-opacity:1; fill:none\" points=\"\n",
       "  168.627,1129.68 194.836,1129.68 \n",
       "  \"/>\n",
       "<polyline clip-path=\"url(#clip4800)\" style=\"stroke:#000000; stroke-width:4; stroke-opacity:1; fill:none\" points=\"\n",
       "  168.627,948.52 194.836,948.52 \n",
       "  \"/>\n",
       "<polyline clip-path=\"url(#clip4800)\" style=\"stroke:#000000; stroke-width:4; stroke-opacity:1; fill:none\" points=\"\n",
       "  168.627,767.359 194.836,767.359 \n",
       "  \"/>\n",
       "<polyline clip-path=\"url(#clip4800)\" style=\"stroke:#000000; stroke-width:4; stroke-opacity:1; fill:none\" points=\"\n",
       "  168.627,586.198 194.836,586.198 \n",
       "  \"/>\n",
       "<polyline clip-path=\"url(#clip4800)\" style=\"stroke:#000000; stroke-width:4; stroke-opacity:1; fill:none\" points=\"\n",
       "  168.627,405.037 194.836,405.037 \n",
       "  \"/>\n",
       "<polyline clip-path=\"url(#clip4800)\" style=\"stroke:#000000; stroke-width:4; stroke-opacity:1; fill:none\" points=\"\n",
       "  168.627,223.876 194.836,223.876 \n",
       "  \"/>\n",
       "<g clip-path=\"url(#clip4800)\">\n",
       "<text style=\"fill:#000000; fill-opacity:1; font-family:Arial,Helvetica Neue,Helvetica,sans-serif; font-size:48px; text-anchor:middle;\" transform=\"rotate(0, 273.369, 1541.47)\" x=\"273.369\" y=\"1541.47\">16</text>\n",
       "</g>\n",
       "<g clip-path=\"url(#clip4800)\">\n",
       "<text style=\"fill:#000000; fill-opacity:1; font-family:Arial,Helvetica Neue,Helvetica,sans-serif; font-size:48px; text-anchor:middle;\" transform=\"rotate(0, 778.393, 1541.47)\" x=\"778.393\" y=\"1541.47\">17</text>\n",
       "</g>\n",
       "<g clip-path=\"url(#clip4800)\">\n",
       "<text style=\"fill:#000000; fill-opacity:1; font-family:Arial,Helvetica Neue,Helvetica,sans-serif; font-size:48px; text-anchor:middle;\" transform=\"rotate(0, 1283.42, 1541.47)\" x=\"1283.42\" y=\"1541.47\">18</text>\n",
       "</g>\n",
       "<g clip-path=\"url(#clip4800)\">\n",
       "<text style=\"fill:#000000; fill-opacity:1; font-family:Arial,Helvetica Neue,Helvetica,sans-serif; font-size:48px; text-anchor:middle;\" transform=\"rotate(0, 1788.44, 1541.47)\" x=\"1788.44\" y=\"1541.47\">19</text>\n",
       "</g>\n",
       "<g clip-path=\"url(#clip4800)\">\n",
       "<text style=\"fill:#000000; fill-opacity:1; font-family:Arial,Helvetica Neue,Helvetica,sans-serif; font-size:48px; text-anchor:middle;\" transform=\"rotate(0, 2293.47, 1541.47)\" x=\"2293.47\" y=\"1541.47\">20</text>\n",
       "</g>\n",
       "<g clip-path=\"url(#clip4800)\">\n",
       "<text style=\"fill:#000000; fill-opacity:1; font-family:Arial,Helvetica Neue,Helvetica,sans-serif; font-size:48px; text-anchor:end;\" transform=\"rotate(0, 144.627, 1328.34)\" x=\"144.627\" y=\"1328.34\">-14</text>\n",
       "</g>\n",
       "<g clip-path=\"url(#clip4800)\">\n",
       "<text style=\"fill:#000000; fill-opacity:1; font-family:Arial,Helvetica Neue,Helvetica,sans-serif; font-size:48px; text-anchor:end;\" transform=\"rotate(0, 144.627, 1147.18)\" x=\"144.627\" y=\"1147.18\">-12</text>\n",
       "</g>\n",
       "<g clip-path=\"url(#clip4800)\">\n",
       "<text style=\"fill:#000000; fill-opacity:1; font-family:Arial,Helvetica Neue,Helvetica,sans-serif; font-size:48px; text-anchor:end;\" transform=\"rotate(0, 144.627, 966.02)\" x=\"144.627\" y=\"966.02\">-10</text>\n",
       "</g>\n",
       "<g clip-path=\"url(#clip4800)\">\n",
       "<text style=\"fill:#000000; fill-opacity:1; font-family:Arial,Helvetica Neue,Helvetica,sans-serif; font-size:48px; text-anchor:end;\" transform=\"rotate(0, 144.627, 784.859)\" x=\"144.627\" y=\"784.859\">-8</text>\n",
       "</g>\n",
       "<g clip-path=\"url(#clip4800)\">\n",
       "<text style=\"fill:#000000; fill-opacity:1; font-family:Arial,Helvetica Neue,Helvetica,sans-serif; font-size:48px; text-anchor:end;\" transform=\"rotate(0, 144.627, 603.698)\" x=\"144.627\" y=\"603.698\">-6</text>\n",
       "</g>\n",
       "<g clip-path=\"url(#clip4800)\">\n",
       "<text style=\"fill:#000000; fill-opacity:1; font-family:Arial,Helvetica Neue,Helvetica,sans-serif; font-size:48px; text-anchor:end;\" transform=\"rotate(0, 144.627, 422.537)\" x=\"144.627\" y=\"422.537\">-4</text>\n",
       "</g>\n",
       "<g clip-path=\"url(#clip4800)\">\n",
       "<text style=\"fill:#000000; fill-opacity:1; font-family:Arial,Helvetica Neue,Helvetica,sans-serif; font-size:48px; text-anchor:end;\" transform=\"rotate(0, 144.627, 241.376)\" x=\"144.627\" y=\"241.376\">-2</text>\n",
       "</g>\n",
       "<polyline clip-path=\"url(#clip4802)\" style=\"stroke:#009af9; stroke-width:4; stroke-opacity:1; fill:none\" points=\"\n",
       "  230.442,1446.71 235.492,1356.13 240.542,1265.55 245.593,1174.97 250.643,1084.39 525.881,993.811 1030.91,903.23 1535.93,812.65 2040.95,722.069 2260.64,631.489 \n",
       "  2265.69,540.908 2270.74,450.328 2275.79,359.747 2280.84,269.166 2285.89,178.586 2290.94,88.0053 \n",
       "  \"/>\n",
       "<path clip-path=\"url(#clip4800)\" d=\"\n",
       "M1989.93 251.724 L2280.76 251.724 L2280.76 130.764 L1989.93 130.764  Z\n",
       "  \" fill=\"#ffffff\" fill-rule=\"evenodd\" fill-opacity=\"1\"/>\n",
       "<polyline clip-path=\"url(#clip4800)\" style=\"stroke:#000000; stroke-width:4; stroke-opacity:1; fill:none\" points=\"\n",
       "  1989.93,251.724 2280.76,251.724 2280.76,130.764 1989.93,130.764 1989.93,251.724 \n",
       "  \"/>\n",
       "<polyline clip-path=\"url(#clip4800)\" style=\"stroke:#009af9; stroke-width:4; stroke-opacity:1; fill:none\" points=\"\n",
       "  2013.93,191.244 2157.93,191.244 \n",
       "  \"/>\n",
       "<g clip-path=\"url(#clip4800)\">\n",
       "<text style=\"fill:#000000; fill-opacity:1; font-family:Arial,Helvetica Neue,Helvetica,sans-serif; font-size:48px; text-anchor:start;\" transform=\"rotate(0, 2181.93, 208.744)\" x=\"2181.93\" y=\"208.744\">y1</text>\n",
       "</g>\n",
       "</svg>\n"
      ]
     },
     "execution_count": 13,
     "metadata": {},
     "output_type": "execute_result"
    }
   ],
   "source": [
    "Temps = Array(interior(model.tracers.T))\n",
    "plot(hor_mean(Temps,3),model.grid.zC)"
   ]
  },
  {
   "cell_type": "markdown",
   "metadata": {},
   "source": [
    "## Set up output\n",
    "\n",
    "We set up an output writer that saves all velocity fields, tracer fields, Temps the subgrid\n",
    "turbulent diffusivity associated with `model.closure`. The `prefix` keyword argument\n",
    "to `JLD2OutputWriter` indicates that output will be saved in\n",
    "`ocean_wind_mixing_and_convection.jld2`."
   ]
  },
  {
   "cell_type": "code",
   "execution_count": 14,
   "metadata": {},
   "outputs": [],
   "source": [
    "## Create a NamedTuple containing all the fields to be outputted.\n",
    "# fields_to_output = merge(model.velocities, model.tracers, (νₑ=model.diffusivities.νₑ,))\n",
    "\n",
    "#####\n",
    "##### Set up output\n",
    "#####\n",
    "fields =       Dict(\"u\" => model.velocities.u,\n",
    "                    \"v\" => model.velocities.v,\n",
    "                    \"w\" => model.velocities.w,\n",
    "                    \"T\" => model.tracers.T,\n",
    "                    \"S\" => model.tracers.S,)\n",
    "\n",
    "outputattrib = Dict(\"u\" => [\"longname\" => \"Velocity in the x-direction\", \"units\" => \"m/s\"],\n",
    "                    \"v\" => [\"longname\" => \"Velocity in the y-direction\", \"units\" => \"m/s\"],\n",
    "                    \"w\" => [\"longname\" => \"Velocity in the z-direction\", \"units\" => \"m/s\"],\n",
    "                    \"T\" => [\"longname\" => \"Temperature\", \"units\" => \"K\"],\n",
    "                    \"S\" => [\"longname\" => \"Salinity\", \"units\" => \"g/kg\"])\n",
    "\n",
    "globalattrib = Dict(\"f\" => 1e-4, \"alpha\" => 2e-4, \"beta\" => 8e-4, \"g\" => 9.80665,)\n",
    "\n",
    "nothing # hide"
   ]
  },
  {
   "cell_type": "markdown",
   "metadata": {},
   "source": [
    "## Running the simulation\n",
    "\n",
    "To run the simulation, we instantiate a `TimeStepWizard`\n",
    "\n",
    "This ensures stable time-stepping with a Courant-Freidrichs-Lewy (CFL) number of 0.2."
   ]
  },
  {
   "cell_type": "code",
   "execution_count": 15,
   "metadata": {},
   "outputs": [],
   "source": [
    "const t_i = 2*pi/f\n",
    "\n",
    "wizard = TimeStepWizard(cfl=0.2, Δt=1.0, max_change=1.1, max_Δt=5.0)\n",
    "nothing # hide\n",
    "\n",
    "function terse_message_sim(sim)\n",
    "    update_Δt!(wizard, model)\n",
    "    cfl = sim.Δt.Δt / Oceananigans.cell_advection_timescale(model)\n",
    "    return @printf(\"i: %d, t: %.4f y, Δt: %.1f s, cfl: %.3f\\n\",\n",
    "                    sim.model.clock.iteration, sim.model.clock.time/t_i, sim.Δt.Δt, cfl)\n",
    "end\n",
    "nothing "
   ]
  },
  {
   "cell_type": "code",
   "execution_count": 16,
   "metadata": {},
   "outputs": [],
   "source": [
    "tf = t_i\n",
    "sim = Simulation(model; Δt=wizard, stop_time=tf, progress_frequency=10000, progress=terse_message_sim)\n",
    "nothing"
   ]
  },
  {
   "cell_type": "code",
   "execution_count": 17,
   "metadata": {},
   "outputs": [],
   "source": [
    "sim.output_writers[:field_writer] =\n",
    "         NetCDFOutputWriter(model, fields; filename=\"../data/wind_shear_test.nc\",\n",
    "                            interval=t_i/100, output_attributes=outputattrib, \n",
    "                            global_attributes=globalattrib,)\n",
    "nothing"
   ]
  },
  {
   "cell_type": "code",
   "execution_count": 18,
   "metadata": {},
   "outputs": [],
   "source": [
    "update_Δt!(wizard, model)"
   ]
  },
  {
   "cell_type": "code",
   "execution_count": 19,
   "metadata": {},
   "outputs": [
    {
     "name": "stdout",
     "output_type": "stream",
     "text": [
      "i: 10000, t: 0.1751 y, Δt: 1.2 s, cfl: 0.103\n",
      "i: 20000, t: 0.3869 y, Δt: 1.5 s, cfl: 0.160\n",
      "i: 30000, t: 0.6432 y, Δt: 1.8 s, cfl: 0.181\n",
      "i: 40000, t: 0.9534 y, Δt: 2.1 s, cfl: 0.103\n",
      "i: 50000, t: 1.3287 y, Δt: 2.6 s, cfl: 0.174\n"
     ]
    },
    {
     "name": "stderr",
     "output_type": "stream",
     "text": [
      "┌ Info: Simulation is stopping. Model time 23.189 hr has hit or exceeded simulation stop time 17.453 hr.\n",
      "└ @ Oceananigans.Simulations /Users/kidsampson/.julia/packages/Oceananigans/Vea3t/src/Simulations.jl:118\n"
     ]
    }
   ],
   "source": [
    "run!(sim)"
   ]
  },
  {
   "cell_type": "code",
   "execution_count": 20,
   "metadata": {},
   "outputs": [
    {
     "data": {
      "text/plain": [
       "Simulation{IncompressibleModel{CPU, Float64}}\n",
       "├── Model clock: time = 23.189 hr, iteration = 50000 \n",
       "├── Next time step (TimeStepWizard{Float64}): 2.853 s \n",
       "├── Progress frequency: 10000\n",
       "├── Stop criteria: Any[Oceananigans.Simulations.iteration_limit_exceeded, Oceananigans.Simulations.stop_time_exceeded, Oceananigans.Simulations.wall_time_limit_exceeded]\n",
       "├── Run time: 3.411 min, wall time limit: Inf\n",
       "├── Stop time: 17.453 hr, stop iteration: Inf\n",
       "├── Diagnostics: OrderedCollections.OrderedDict with no entries\n",
       "└── Output writers: OrderedCollections.OrderedDict with 1 entry:\n",
       "│   └── field_writer => NetCDFOutputWriter"
      ]
     },
     "execution_count": 20,
     "metadata": {},
     "output_type": "execute_result"
    }
   ],
   "source": [
    "sim"
   ]
  },
  {
   "cell_type": "code",
   "execution_count": null,
   "metadata": {},
   "outputs": [],
   "source": []
  }
 ],
 "metadata": {
  "kernelspec": {
   "display_name": "Julia 1.3.1",
   "language": "julia",
   "name": "julia-1.3"
  },
  "language_info": {
   "file_extension": ".jl",
   "mimetype": "application/julia",
   "name": "julia",
   "version": "1.3.1"
  }
 },
 "nbformat": 4,
 "nbformat_minor": 4
}
